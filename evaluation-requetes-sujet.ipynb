{
 "cells": [
  {
   "cell_type": "markdown",
   "metadata": {},
   "source": [
    "# Évaluation - requêtes SQL\n",
    "\n",
    "## Principe de fonctionnement\n",
    "\n",
    "Le principe de fonctionnement est le mêmes pour que pour l'exercice sur les requêtes SQL. Nous ne le répétons pas ici. \n"
   ]
  },
  {
   "cell_type": "markdown",
   "metadata": {},
   "source": [
    "## Configuration"
   ]
  },
  {
   "cell_type": "code",
   "execution_count": 1,
   "metadata": {},
   "outputs": [
    {
     "data": {
      "text/html": [
       "<style>\n",
       "h1, h2, h3, h4 {\n",
       "    padding:.3em; \n",
       "    border-top:solid 1px;\n",
       "    border-bottom:solid 3px;\n",
       "}\n",
       "h1 {\n",
       "    background-color : rgba(255, 0, 0, 0.1);\n",
       "   }\n",
       "h2 {\n",
       "    background-color : rgba(0, 0, 255, 0.1);\n",
       "   }\n",
       "h3 {\n",
       "    background-color : rgba(0, 255, 0, 0.1);\n",
       "   }\n",
       "h4 {\n",
       "    background-color : rgba(255, 255, 0, 0.1);\n",
       "    line-height: 1.3 !important;\n",
       "   }\n",
       "</style>\n"
      ],
      "text/plain": [
       "<IPython.core.display.HTML object>"
      ]
     },
     "execution_count": 1,
     "metadata": {},
     "output_type": "execute_result"
    }
   ],
   "source": [
    "# Un peu de style :\n",
    "from IPython.display import HTML\n",
    "HTML(\"data/style.css\")"
   ]
  },
  {
   "cell_type": "code",
   "execution_count": 2,
   "metadata": {},
   "outputs": [
    {
     "name": "stdout",
     "output_type": "stream",
     "text": [
      "requestdb v (1, 1)\n"
     ]
    }
   ],
   "source": [
    "# On commence par importer le module\n",
    "from requestdb import RequestDB\n",
    "# Puis on crée l'objet <db> qui en lui indiquant \n",
    "# le chemin vers la base de données (ça fonctionne\n",
    "# avec n'importe quelle base sqlite)\n",
    "db = RequestDB(\"data/films.db\")"
   ]
  },
  {
   "cell_type": "markdown",
   "metadata": {},
   "source": [
    "## Questions"
   ]
  },
  {
   "cell_type": "markdown",
   "metadata": {},
   "source": [
    "#### Test  :  3 films  de 1998"
   ]
  },
  {
   "cell_type": "code",
   "execution_count": 3,
   "metadata": {
    "lines_to_next_cell": 0,
    "scrolled": true
   },
   "outputs": [
    {
     "data": {
      "text/html": [
       "<p>Number of rows : <b>3</b></p><table class='dataframe' border='1'><thead><tr>\n",
       "<td><b>id</b></td>\n",
       "<td><b>titre</b></td>\n",
       "<td><b>annee</b></td>\n",
       "<td><b>nbSpectateurs</b></td>\n",
       "<td><b>idRealisateur</b></td>\n",
       "<td><b>idGenre</b></td>\n",
       "</tr></thead><tbody>\n",
       "<tr>\n",
       "<td>73</td>\n",
       "<td>American History X</td>\n",
       "<td>1998</td>\n",
       "<td>2984390</td>\n",
       "<td>814</td>\n",
       "<td>18</td>\n",
       "</tr>\n",
       "<tr>\n",
       "<td>95</td>\n",
       "<td>Armageddon</td>\n",
       "<td>1998</td>\n",
       "<td>69224945</td>\n",
       "<td>865</td>\n",
       "<td>28</td>\n",
       "</tr>\n",
       "<tr>\n",
       "<td>857</td>\n",
       "<td>Il faut sauver le soldat Ryan</td>\n",
       "<td>1998</td>\n",
       "<td>60230113</td>\n",
       "<td>488</td>\n",
       "<td>18</td>\n",
       "</tr>\n",
       "</tbody></table>"
      ],
      "text/plain": [
       "<IPython.core.display.HTML object>"
      ]
     },
     "execution_count": 3,
     "metadata": {},
     "output_type": "execute_result"
    }
   ],
   "source": [
    "r = \"\"\"\\\n",
    "SELECT * FROM film WHERE annee = 1998 LIMIT 3\n",
    "\"\"\"\n",
    "db.query(r)"
   ]
  },
  {
   "cell_type": "markdown",
   "metadata": {},
   "source": [
    "### 1. Requêtes simples"
   ]
  },
  {
   "cell_type": "markdown",
   "metadata": {},
   "source": [
    "#### 1.1 Liste des genres de films possibles\n",
    "(il s'agit juste de lister le contenu de la table genre en ne donnant que les intitulés des genres)"
   ]
  },
  {
   "cell_type": "code",
   "execution_count": 4,
   "metadata": {},
   "outputs": [
    {
     "data": {
      "text/html": [
       "<p>Number of rows : <b>19</b></p><table class='dataframe' border='1'><thead><tr>\n",
       "<td><b>genres</b></td>\n",
       "</tr></thead><tbody>\n",
       "<tr>\n",
       "<td>Aventure</td>\n",
       "</tr>\n",
       "<tr>\n",
       "<td>Fantastique</td>\n",
       "</tr>\n",
       "<tr>\n",
       "<td>Animation</td>\n",
       "</tr>\n",
       "<tr>\n",
       "<td>Drame</td>\n",
       "</tr>\n",
       "<tr>\n",
       "<td>Horreur</td>\n",
       "</tr>\n",
       "<tr>\n",
       "<td>Action</td>\n",
       "</tr>\n",
       "<tr>\n",
       "<td>Comédie</td>\n",
       "</tr>\n",
       "<tr>\n",
       "<td>Histoire</td>\n",
       "</tr>\n",
       "<tr>\n",
       "<td>Western</td>\n",
       "</tr>\n",
       "<tr>\n",
       "<td>Thriller</td>\n",
       "</tr>\n",
       "<tr>\n",
       "<td>Crime</td>\n",
       "</tr>\n",
       "<tr>\n",
       "<td>Documentaire</td>\n",
       "</tr>\n",
       "<tr>\n",
       "<td>Science-Fiction</td>\n",
       "</tr>\n",
       "<tr>\n",
       "<td>Mystère</td>\n",
       "</tr>\n",
       "<tr>\n",
       "<td>Musique</td>\n",
       "</tr>\n",
       "<tr>\n",
       "<td>Romance</td>\n",
       "</tr>\n",
       "<tr>\n",
       "<td>Familial</td>\n",
       "</tr>\n",
       "<tr>\n",
       "<td>Guerre</td>\n",
       "</tr>\n",
       "<tr>\n",
       "<td>Téléfilm</td>\n",
       "</tr>\n",
       "</tbody></table>"
      ],
      "text/plain": [
       "<IPython.core.display.HTML object>"
      ]
     },
     "execution_count": 4,
     "metadata": {},
     "output_type": "execute_result"
    }
   ],
   "source": [
    "# question 1.1\n",
    "r = \"\"\"\\\n",
    "SELECT nom AS genres\n",
    "FROM genre\n",
    "\"\"\"\n",
    "db.query(r)"
   ]
  },
  {
   "cell_type": "markdown",
   "metadata": {},
   "source": [
    "#### 1.2 Liste des titres de films commençant par la lettre `R` et sortis en 2010"
   ]
  },
  {
   "cell_type": "code",
   "execution_count": 5,
   "metadata": {},
   "outputs": [
    {
     "data": {
      "text/html": [
       "<p>Number of rows : <b>2</b></p><table class='dataframe' border='1'><thead><tr>\n",
       "<td><b>titre</b></td>\n",
       "</tr></thead><tbody>\n",
       "<tr>\n",
       "<td>Remember me</td>\n",
       "</tr>\n",
       "<tr>\n",
       "<td>Rien à déclarer</td>\n",
       "</tr>\n",
       "</tbody></table>"
      ],
      "text/plain": [
       "<IPython.core.display.HTML object>"
      ]
     },
     "execution_count": 5,
     "metadata": {},
     "output_type": "execute_result"
    }
   ],
   "source": [
    "# question 1.2\n",
    "r = \"\"\"\\\n",
    "SELECT titre\n",
    "FROM film\n",
    "WHERE titre LIKE 'R%' AND annee=2010\n",
    "\"\"\"\n",
    "db.query(r)"
   ]
  },
  {
   "cell_type": "markdown",
   "metadata": {},
   "source": [
    "#### 1.3 Liste des noms et dates de naissance des personnes enregistrées dont le prénom commence par `So`...\n",
    "... du plus âgé au plus jeune (si la date de naissance n'est pas connue, le nom ne doit pas apparaître)"
   ]
  },
  {
   "cell_type": "code",
   "execution_count": 6,
   "metadata": {},
   "outputs": [
    {
     "data": {
      "text/html": [
       "<p>Number of rows : <b>9</b></p><table class='dataframe' border='1'><thead><tr>\n",
       "<td><b>nom</b></td>\n",
       "<td><b>date_naissance</b></td>\n",
       "</tr></thead><tbody>\n",
       "<tr>\n",
       "<td>Sol Gorss</td>\n",
       "<td>1908-03-22</td>\n",
       "</tr>\n",
       "<tr>\n",
       "<td>Sonny Jim Gaines</td>\n",
       "<td>1928-01-01</td>\n",
       "</tr>\n",
       "<tr>\n",
       "<td>Sonny Caldinez</td>\n",
       "<td>1932-07-01</td>\n",
       "</tr>\n",
       "<tr>\n",
       "<td>Sophia Loren</td>\n",
       "<td>1934-09-20</td>\n",
       "</tr>\n",
       "<tr>\n",
       "<td>Souleymane Dicko</td>\n",
       "<td>1966-08-26</td>\n",
       "</tr>\n",
       "<tr>\n",
       "<td>Sophie Marceau</td>\n",
       "<td>1966-11-17</td>\n",
       "</tr>\n",
       "<tr>\n",
       "<td>Sofia Coppola</td>\n",
       "<td>1971-05-14</td>\n",
       "</tr>\n",
       "<tr>\n",
       "<td>Sophie-Marie Larrouy</td>\n",
       "<td>1984-01-01</td>\n",
       "</tr>\n",
       "<tr>\n",
       "<td>Sophie Kennedy Clark</td>\n",
       "<td>1990-01-01</td>\n",
       "</tr>\n",
       "</tbody></table>"
      ],
      "text/plain": [
       "<IPython.core.display.HTML object>"
      ]
     },
     "execution_count": 6,
     "metadata": {},
     "output_type": "execute_result"
    }
   ],
   "source": [
    "# question 1.3\n",
    "r = \"\"\"\\\n",
    "SELECT nom, naissance AS date_naissance\n",
    "FROM personne\n",
    "WHERE nom LIKE 'So%' AND naissance IS NOT NULL\n",
    "ORDER BY naissance\n",
    "\"\"\"\n",
    "db.query(r)"
   ]
  },
  {
   "cell_type": "markdown",
   "metadata": {},
   "source": [
    "### 2. Jointures"
   ]
  },
  {
   "cell_type": "markdown",
   "metadata": {},
   "source": [
    "#### 2.1 Liste des films réalisés par Martin Scorsese, en indiquant à chaque fois leur genre, par ordre alphabétique."
   ]
  },
  {
   "cell_type": "code",
   "execution_count": 7,
   "metadata": {},
   "outputs": [
    {
     "data": {
      "text/html": [
       "<p>Number of rows : <b>7</b></p><table class='dataframe' border='1'><thead><tr>\n",
       "<td><b>titre</b></td>\n",
       "<td><b>genre_de_film</b></td>\n",
       "</tr></thead><tbody>\n",
       "<tr>\n",
       "<td>Aviator</td>\n",
       "<td>Drame</td>\n",
       "</tr>\n",
       "<tr>\n",
       "<td>Gangs of New York</td>\n",
       "<td>Drame</td>\n",
       "</tr>\n",
       "<tr>\n",
       "<td>Hugo Cabret</td>\n",
       "<td>Aventure</td>\n",
       "</tr>\n",
       "<tr>\n",
       "<td>Le Loup de Wall Street</td>\n",
       "<td>Crime</td>\n",
       "</tr>\n",
       "<tr>\n",
       "<td>Les Affranchis</td>\n",
       "<td>Drame</td>\n",
       "</tr>\n",
       "<tr>\n",
       "<td>Les Infiltrés</td>\n",
       "<td>Drame</td>\n",
       "</tr>\n",
       "<tr>\n",
       "<td>Shutter Island</td>\n",
       "<td>Drame</td>\n",
       "</tr>\n",
       "</tbody></table>"
      ],
      "text/plain": [
       "<IPython.core.display.HTML object>"
      ]
     },
     "execution_count": 7,
     "metadata": {},
     "output_type": "execute_result"
    }
   ],
   "source": [
    "# question 2.1\n",
    "r = \"\"\"\\\n",
    "SELECT titre, genre.nom AS genre_de_film\n",
    "FROM film, genre, personne\n",
    "WHERE film.idGenre=genre.id AND personne.id=film.idRealisateur AND personne.nom IS 'Martin Scorsese'\n",
    "-- Un LIKE sur '%Scorsese' aurait pu inclure Fransesca Scorsese qui peut avoir réalisé un film...\n",
    "ORDER BY titre \n",
    "-- je suppose que l'ordre aplphabétique concerne le titre\n",
    "\"\"\"\n",
    "db.query(r)"
   ]
  },
  {
   "cell_type": "markdown",
   "metadata": {},
   "source": [
    "#### 2.2 Liste des titres et nombre d'entrées des films de Quentin Tarantino ayant fait moins de 10 millions d'entrées"
   ]
  },
  {
   "cell_type": "code",
   "execution_count": 8,
   "metadata": {},
   "outputs": [
    {
     "data": {
      "text/html": [
       "<p>Number of rows : <b>6</b></p><table class='dataframe' border='1'><thead><tr>\n",
       "<td><b>titre</b></td>\n",
       "<td><b>entrees</b></td>\n",
       "</tr></thead><tbody>\n",
       "<tr>\n",
       "<td>Kill Bill : Volume 2</td>\n",
       "<td>19019932</td>\n",
       "</tr>\n",
       "<tr>\n",
       "<td>Les 8 Salopards</td>\n",
       "<td>19470014</td>\n",
       "</tr>\n",
       "<tr>\n",
       "<td>Kill Bill : Volume 1</td>\n",
       "<td>22612380</td>\n",
       "</tr>\n",
       "<tr>\n",
       "<td>Inglourious Basterds</td>\n",
       "<td>40181961</td>\n",
       "</tr>\n",
       "<tr>\n",
       "<td>Once Upon a Time… in Hollywood</td>\n",
       "<td>46781405</td>\n",
       "</tr>\n",
       "<tr>\n",
       "<td>Django Unchained</td>\n",
       "<td>53171029</td>\n",
       "</tr>\n",
       "</tbody></table>"
      ],
      "text/plain": [
       "<IPython.core.display.HTML object>"
      ]
     },
     "execution_count": 8,
     "metadata": {},
     "output_type": "execute_result"
    }
   ],
   "source": [
    "# question 2.2\n",
    "r = \"\"\"\\\n",
    "SELECT titre, nbSpectateurs AS entrees\n",
    "FROM film, personne\n",
    "WHERE personne.id=film.idRealisateur AND personne.nom LIKE 'Quentin%Tarantino%' AND entrees>1E7\n",
    "-- On peut aussi utiliser -> personne.nom IS 'Quentin Tarantino'\n",
    "ORDER BY entrees\n",
    "\"\"\"\n",
    "db.query(r)"
   ]
  },
  {
   "cell_type": "markdown",
   "metadata": {},
   "source": [
    "La liste doit s'afficher par ordre croissant du nombre d'entrées."
   ]
  },
  {
   "cell_type": "markdown",
   "metadata": {},
   "source": [
    "#### 2.3 Liste des genres de films dans lesquels Léonardo DiCaprio a joué\n",
    "Il faut qu'il soit acteur et non *juste* réalisateur. Attention à la manière dont le nom de l'acteur est orthographié dans la base. Chaque genre de film ne doit être listé qu'une fois."
   ]
  },
  {
   "cell_type": "code",
   "execution_count": 9,
   "metadata": {},
   "outputs": [
    {
     "data": {
      "text/html": [
       "<p>Number of rows : <b>6</b></p><table class='dataframe' border='1'><thead><tr>\n",
       "<td><b>genre_de_film</b></td>\n",
       "</tr></thead><tbody>\n",
       "<tr>\n",
       "<td>Drame</td>\n",
       "</tr>\n",
       "<tr>\n",
       "<td>Romance</td>\n",
       "</tr>\n",
       "<tr>\n",
       "<td>Action</td>\n",
       "</tr>\n",
       "<tr>\n",
       "<td>Crime</td>\n",
       "</tr>\n",
       "<tr>\n",
       "<td>Western</td>\n",
       "</tr>\n",
       "<tr>\n",
       "<td>Documentaire</td>\n",
       "</tr>\n",
       "</tbody></table>"
      ],
      "text/plain": [
       "<IPython.core.display.HTML object>"
      ]
     },
     "execution_count": 9,
     "metadata": {},
     "output_type": "execute_result"
    }
   ],
   "source": [
    "# question 2.3\n",
    "r = \"\"\"\\\n",
    "SELECT DISTINCT genre.nom AS genre_de_film\n",
    "FROM film, genre, personne, joue\n",
    "WHERE film.idGenre=genre.id \n",
    "  AND joue.idActeur=personne.id \n",
    "  AND film.id=joue.idFilm \n",
    "  AND film.IdRealisateur IS NOT personne.id   -- pour exclure son rôle éventuel en tant que réalisateur?\n",
    "  AND personne.nom IS 'Leonardo DiCaprio'\n",
    "\"\"\"\n",
    "db.query(r)"
   ]
  },
  {
   "cell_type": "markdown",
   "metadata": {},
   "source": [
    " #### 2.4 Liste des films ayant à l'affiche (en tant qu'acteurs) Léonardo di Caprio et Johnny Depp."
   ]
  },
  {
   "cell_type": "code",
   "execution_count": 10,
   "metadata": {},
   "outputs": [
    {
     "data": {
      "text/html": [
       "<p>Number of rows : <b>1</b></p><table class='dataframe' border='1'><thead><tr>\n",
       "<td><b>titre</b></td>\n",
       "</tr></thead><tbody>\n",
       "<tr>\n",
       "<td>Gilbert Grape</td>\n",
       "</tr>\n",
       "</tbody></table>"
      ],
      "text/plain": [
       "<IPython.core.display.HTML object>"
      ]
     },
     "execution_count": 10,
     "metadata": {},
     "output_type": "execute_result"
    }
   ],
   "source": [
    "# question 2.4 \n",
    "\n",
    "r = \"\"\"\\\n",
    "SELECT DISTINCT titre\n",
    "FROM film, joue, personne \n",
    "WHERE joue.idFilm=film.id\n",
    "AND joue.idActeur = personne.id AND\n",
    "personne.nom IN ('Leonardo DiCaprio','Johnny Depp')\n",
    "\n",
    "GROUP BY film.titre\n",
    "HAVING COUNT(*) = 2\n",
    "\"\"\"\n",
    "db.query(r)\n"
   ]
  },
  {
   "cell_type": "markdown",
   "metadata": {},
   "source": [
    "### 3. Agrégations\n"
   ]
  },
  {
   "cell_type": "markdown",
   "metadata": {},
   "source": [
    "#### 3.1 Année du film le plus ancien qui soit réalisé par un français\n",
    "Vous vous contenterez de tester : `pays = 'France'`.\n",
    "Vous n'avez pas le droit d'utiliser `LIMIT`."
   ]
  },
  {
   "cell_type": "code",
   "execution_count": 11,
   "metadata": {},
   "outputs": [
    {
     "data": {
      "text/html": [
       "<p>Number of rows : <b>1</b></p><table class='dataframe' border='1'><thead><tr>\n",
       "<td><b>plus_vieux_film_français</b></td>\n",
       "</tr></thead><tbody>\n",
       "<tr>\n",
       "<td>1936</td>\n",
       "</tr>\n",
       "</tbody></table>"
      ],
      "text/plain": [
       "<IPython.core.display.HTML object>"
      ]
     },
     "execution_count": 11,
     "metadata": {},
     "output_type": "execute_result"
    }
   ],
   "source": [
    "# question 3.1\n",
    "r = \"\"\"\\\n",
    "SELECT MIN(annee) AS plus_vieux_film_français\n",
    "FROM film, personne\n",
    "WHERE personne.id=film.idRealisateur AND personne.pays='France' \n",
    "\"\"\"\n",
    "db.query(r)"
   ]
  },
  {
   "cell_type": "markdown",
   "metadata": {},
   "source": [
    "#### 3.2 Liste des pays avec le nombre de films réalisés (par un réalisateur de ce pays), limitée au 10 plus gros producteurs\n",
    "La liste doit s'afficher par ordre décroissant du nombre de films."
   ]
  },
  {
   "cell_type": "code",
   "execution_count": 12,
   "metadata": {},
   "outputs": [
    {
     "data": {
      "text/html": [
       "<p>Number of rows : <b>10</b></p><table class='dataframe' border='1'><thead><tr>\n",
       "<td><b>pays</b></td>\n",
       "<td><b>nb_films</b></td>\n",
       "</tr></thead><tbody>\n",
       "<tr>\n",
       "<td>France</td>\n",
       "<td>372</td>\n",
       "</tr>\n",
       "<tr>\n",
       "<td>USA</td>\n",
       "<td>301</td>\n",
       "</tr>\n",
       "<tr>\n",
       "<td>UK</td>\n",
       "<td>105</td>\n",
       "</tr>\n",
       "<tr>\n",
       "<td>Francia</td>\n",
       "<td>22</td>\n",
       "</tr>\n",
       "<tr>\n",
       "<td>New Zealand</td>\n",
       "<td>16</td>\n",
       "</tr>\n",
       "<tr>\n",
       "<td>Germany</td>\n",
       "<td>12</td>\n",
       "</tr>\n",
       "<tr>\n",
       "<td>China</td>\n",
       "<td>12</td>\n",
       "</tr>\n",
       "<tr>\n",
       "<td>Belgium</td>\n",
       "<td>12</td>\n",
       "</tr>\n",
       "<tr>\n",
       "<td>Japan</td>\n",
       "<td>11</td>\n",
       "</tr>\n",
       "<tr>\n",
       "<td>Greece</td>\n",
       "<td>11</td>\n",
       "</tr>\n",
       "</tbody></table>"
      ],
      "text/plain": [
       "<IPython.core.display.HTML object>"
      ]
     },
     "execution_count": 12,
     "metadata": {},
     "output_type": "execute_result"
    }
   ],
   "source": [
    "# question 3.2\n",
    "r = \"\"\"\\\n",
    "SELECT pays, COUNT(film.id) AS nb_films\n",
    "FROM film, personne\n",
    "WHERE film.idRealisateur=personne.id AND pays IS NOT NULL \n",
    "GROUP BY pays\n",
    "ORDER BY nb_films DESC\n",
    "LIMIT 10\n",
    "\"\"\"\n",
    "db.query(r)"
   ]
  },
  {
   "cell_type": "markdown",
   "metadata": {},
   "source": [
    "#### 3.3 Liste des réalisateurs avec le nombre de films qu'ils ont réalisé en 2000\n",
    "Donner la liste par ordre décroissant du nombre de films"
   ]
  },
  {
   "cell_type": "code",
   "execution_count": 13,
   "metadata": {},
   "outputs": [
    {
     "data": {
      "text/html": [
       "<p>Number of rows : <b>15</b></p><table class='dataframe' border='1'><thead><tr>\n",
       "<td><b>nom</b></td>\n",
       "<td><b>nombre</b></td>\n",
       "</tr></thead><tbody>\n",
       "<tr>\n",
       "<td>Robert Zemeckis</td>\n",
       "<td>2</td>\n",
       "</tr>\n",
       "<tr>\n",
       "<td>Thaddeus O'Sullivan</td>\n",
       "<td>1</td>\n",
       "</tr>\n",
       "<tr>\n",
       "<td>Ron Howard</td>\n",
       "<td>1</td>\n",
       "</tr>\n",
       "<tr>\n",
       "<td>Rob LaDuca</td>\n",
       "<td>1</td>\n",
       "</tr>\n",
       "<tr>\n",
       "<td>Ridley Scott</td>\n",
       "<td>1</td>\n",
       "</tr>\n",
       "<tr>\n",
       "<td>Mathieu Kassovitz</td>\n",
       "<td>1</td>\n",
       "</tr>\n",
       "<tr>\n",
       "<td>John Woo</td>\n",
       "<td>1</td>\n",
       "</tr>\n",
       "<tr>\n",
       "<td>James Bobin</td>\n",
       "<td>1</td>\n",
       "</tr>\n",
       "<tr>\n",
       "<td>Fabien Onteniente</td>\n",
       "<td>1</td>\n",
       "</tr>\n",
       "<tr>\n",
       "<td>Dominik Moll</td>\n",
       "<td>1</td>\n",
       "</tr>\n",
       "<tr>\n",
       "<td>Danny Boyle</td>\n",
       "<td>1</td>\n",
       "</tr>\n",
       "<tr>\n",
       "<td>Christopher Nolan</td>\n",
       "<td>1</td>\n",
       "</tr>\n",
       "<tr>\n",
       "<td>Boaz Yakin</td>\n",
       "<td>1</td>\n",
       "</tr>\n",
       "<tr>\n",
       "<td>Andrzej Bartkowiak</td>\n",
       "<td>1</td>\n",
       "</tr>\n",
       "<tr>\n",
       "<td>Agnès Jaoui</td>\n",
       "<td>1</td>\n",
       "</tr>\n",
       "</tbody></table>"
      ],
      "text/plain": [
       "<IPython.core.display.HTML object>"
      ]
     },
     "execution_count": 13,
     "metadata": {},
     "output_type": "execute_result"
    }
   ],
   "source": [
    "# question 3.3\n",
    "r = \"\"\"\\\n",
    "SELECT nom, COUNT(film.id) AS nombre\n",
    "FROM film, personne\n",
    "WHERE personne.id=film.idRealisateur AND annee=2000\n",
    "GROUP BY nom\n",
    "ORDER BY nombre DESC\n",
    "\"\"\"\n",
    "db.query(r)"
   ]
  },
  {
   "cell_type": "markdown",
   "metadata": {},
   "source": [
    "#### 3.4 Liste des réalisateurs  avec le nombre de films qu'ils ont réalisé entre 2000 et 2010...\n",
    "Donner la liste par ordre décroissant du nombre de films, et **limitée aux réalisateurs qui ont fait aux moins 4 films**."
   ]
  },
  {
   "cell_type": "code",
   "execution_count": null,
   "metadata": {},
   "outputs": [],
   "source": [
    "# question 3.4\n",
    "r = \"\"\"\\\n",
    "SELECT nom, COUNT(film.id) AS nombre   -- ou COUNT(*)\n",
    "FROM film, personne\n",
    "WHERE personne.id=film.idRealisateur AND annee BETWEEN 2000 AND 2010\n",
    "GROUP BY nom\n",
    "HAVING nombre>=4    -- ou HAVING COUNT(film.id)>=4\n",
    "ORDER BY nombre DESC\n",
    "\"\"\"\n",
    "db.query(r)"
   ]
  },
  {
   "cell_type": "markdown",
   "metadata": {},
   "source": [
    "#### 3.4 Liste des titres des 10 films ayant le plus gros budget pour les salaires des acteurs (somme des salaires la plus élevée)\n",
    "Le budget (somme des salaires) doit aussi être donné dans les résultats."
   ]
  },
  {
   "cell_type": "code",
   "execution_count": null,
   "metadata": {},
   "outputs": [],
   "source": [
    "# question 3.4.bis\n",
    "r = \"\"\"\\\n",
    "SELECT titre, SUM(salaire) AS budget_acteurs\n",
    "FROM film, joue\n",
    "WHERE joue.idFilm=film.id\n",
    "GROUP BY titre\n",
    "ORDER BY budget_acteurs DESC\n",
    "LIMIT 10\n",
    "\"\"\"\n",
    "db.query(r)"
   ]
  },
  {
   "cell_type": "markdown",
   "metadata": {},
   "source": [
    "### Sous-requêtes"
   ]
  },
  {
   "cell_type": "markdown",
   "metadata": {},
   "source": [
    "#### 4.1 Liste des triplets acteur, film, salaire (acteur ayant joué dans tel film pour tel salaire), tels que le salaire soit supérieur à la moitié du salaire maximum de la base\n",
    "\n",
    "Il faut que votre requête fonctionne sans modification quelles que soient les\n",
    "données présentes dans la base."
   ]
  },
  {
   "cell_type": "code",
   "execution_count": 14,
   "metadata": {},
   "outputs": [
    {
     "data": {
      "text/html": [
       "<p>Number of rows : <b>11</b></p><table class='dataframe' border='1'><thead><tr>\n",
       "<td><b>nom</b></td>\n",
       "<td><b>titre_du_film</b></td>\n",
       "<td><b>salaire</b></td>\n",
       "</tr></thead><tbody>\n",
       "<tr>\n",
       "<td>Scarlett Johansson</td>\n",
       "<td>Avengers : L'Ère d'Ultron</td>\n",
       "<td>17585120.0</td>\n",
       "</tr>\n",
       "<tr>\n",
       "<td>Scarlett Johansson</td>\n",
       "<td>Thor : Ragnarok</td>\n",
       "<td>11304720.0</td>\n",
       "</tr>\n",
       "<tr>\n",
       "<td>Scarlett Johansson</td>\n",
       "<td>Avengers: Endgame</td>\n",
       "<td>22358224.0</td>\n",
       "</tr>\n",
       "<tr>\n",
       "<td>Scarlett Johansson</td>\n",
       "<td>Avengers : Infinity War</td>\n",
       "<td>18841200.0</td>\n",
       "</tr>\n",
       "<tr>\n",
       "<td>Robert Downey Jr.</td>\n",
       "<td>Avengers : L'Ère d'Ultron</td>\n",
       "<td>13159440.0</td>\n",
       "</tr>\n",
       "<tr>\n",
       "<td>Robert Downey Jr.</td>\n",
       "<td>Avengers: Endgame</td>\n",
       "<td>16731288.0</td>\n",
       "</tr>\n",
       "<tr>\n",
       "<td>Robert Downey Jr.</td>\n",
       "<td>Avengers : Infinity War</td>\n",
       "<td>14099400.0</td>\n",
       "</tr>\n",
       "<tr>\n",
       "<td>Henry Cavill</td>\n",
       "<td>Justice League</td>\n",
       "<td>14371200.0</td>\n",
       "</tr>\n",
       "<tr>\n",
       "<td>Henry Cavill</td>\n",
       "<td>Batman v Superman : L’aube de la justice</td>\n",
       "<td>11976000.0</td>\n",
       "</tr>\n",
       "<tr>\n",
       "<td>Margot Robbie</td>\n",
       "<td>Tarzan</td>\n",
       "<td>11569320.0</td>\n",
       "</tr>\n",
       "<tr>\n",
       "<td>Margot Robbie</td>\n",
       "<td>Suicide Squad</td>\n",
       "<td>11312224.0</td>\n",
       "</tr>\n",
       "</tbody></table>"
      ],
      "text/plain": [
       "<IPython.core.display.HTML object>"
      ]
     },
     "execution_count": 14,
     "metadata": {},
     "output_type": "execute_result"
    }
   ],
   "source": [
    "# question 4.1\n",
    "r = \"\"\"\\\n",
    "SELECT nom,titre AS titre_du_film, salaire\n",
    "FROM film,joue, personne\n",
    "WHERE joue.idFilm=film.id\n",
    "    AND joue.idActeur=personne.id\n",
    "    AND salaire > (SELECT MAX(salaire)/2 FROM joue)\n",
    "\"\"\"\n",
    "db.query(r)"
   ]
  },
  {
   "cell_type": "code",
   "execution_count": null,
   "metadata": {},
   "outputs": [],
   "source": []
  }
 ],
 "metadata": {
  "kernelspec": {
   "display_name": "Python 3",
   "language": "python",
   "name": "python3"
  },
  "language_info": {
   "codemirror_mode": {
    "name": "ipython",
    "version": 3
   },
   "file_extension": ".py",
   "mimetype": "text/x-python",
   "name": "python",
   "nbconvert_exporter": "python",
   "pygments_lexer": "ipython3",
   "version": "3.7.4"
  },
  "notebookname": "Évaluation BDD Requêtes SQLite",
  "version": "1.0a"
 },
 "nbformat": 4,
 "nbformat_minor": 2
}
